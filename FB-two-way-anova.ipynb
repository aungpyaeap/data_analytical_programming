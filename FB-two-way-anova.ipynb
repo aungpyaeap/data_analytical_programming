{
 "cells": [
  {
   "cell_type": "code",
   "execution_count": 11,
   "metadata": {},
   "outputs": [
    {
     "name": "stdout",
     "output_type": "stream",
     "text": [
      "   Gender Post  Result\n",
      "0    Male   P1       4\n",
      "1  Female   P1      14\n",
      "2    Male   P2       2\n",
      "3  Female   P2       6\n",
      "4    Male   P3       0\n",
      "5  Female   P3       1\n",
      "6    Male   P4       2\n",
      "7  Female   P4       5\n",
      "8    Male   P5      20\n",
      "9  Female   P5      40\n"
     ]
    }
   ],
   "source": [
    "import statsmodels.api as sm\n",
    "from statsmodels.formula.api import ols\n",
    "from pandas import DataFrame\n",
    "\n",
    "dataset = {\n",
    "        'Gender': ['Male','Female','Male','Female','Male','Female','Male','Female','Male','Female'],\n",
    "        'Post': ['P1','P1','P2','P2','P3','P3','P4','P4','P5','P5'],\n",
    "        'Result': [4,14,2,6,0,1,2,5,20,40]\n",
    "        }\n",
    "\n",
    "dataset = DataFrame(dataset,columns= ['Gender', 'Post','Result'])\n",
    "\n",
    "print(dataset)"
   ]
  },
  {
   "cell_type": "code",
   "execution_count": 8,
   "metadata": {},
   "outputs": [
    {
     "data": {
      "text/plain": [
       "<matplotlib.axes._subplots.AxesSubplot at 0x230388a72e8>"
      ]
     },
     "execution_count": 8,
     "metadata": {},
     "output_type": "execute_result"
    },
    {
     "data": {
      "image/png": "[encoded data removed]",
      "text/plain": [
       "<matplotlib.figure.Figure at 0x23038cc88d0>"
      ]
     },
     "metadata": {},
     "output_type": "display_data"
    }
   ],
   "source": [
    "dataset.boxplot('Result', by='Gender')"
   ]
  },
  {
   "cell_type": "code",
   "execution_count": 10,
   "metadata": {},
   "outputs": [
    {
     "data": {
      "text/plain": [
       "<matplotlib.axes._subplots.AxesSubplot at 0x23038c1b438>"
      ]
     },
     "execution_count": 10,
     "metadata": {},
     "output_type": "execute_result"
    },
    {
     "data": {
      "image/png": "[encoded data removed]",
      "text/plain": [
       "<matplotlib.figure.Figure at 0x23038824160>"
      ]
     },
     "metadata": {},
     "output_type": "display_data"
    }
   ],
   "source": [
    "dataset.boxplot('Result', by='Post')"
   ]
  },
  {
   "cell_type": "code",
   "execution_count": 6,
   "metadata": {},
   "outputs": [
    {
     "name": "stdout",
     "output_type": "stream",
     "text": [
      "          sum_sq   df         F    PR(>F)\n",
      "Gender     144.4  1.0  4.870152  0.091949\n",
      "Post      1135.4  4.0  9.573356  0.025143\n",
      "Residual   118.6  4.0       NaN       NaN\n"
     ]
    }
   ],
   "source": [
    "mod =  ols('Result ~ Gender + Post', data=dataset).fit()\n",
    "anova_table = sm.stats.anova_lm(mod, typ=2)\n",
    "print(anova_table)"
   ]
  },
  {
   "cell_type": "code",
   "execution_count": null,
   "metadata": {},
   "outputs": [],
   "source": []
  }
 ],
 "metadata": {
  "kernelspec": {
   "display_name": "Python 3",
   "language": "python",
   "name": "python3"
  },
  "language_info": {
   "codemirror_mode": {
    "name": "ipython",
    "version": 3
   },
   "file_extension": ".py",
   "mimetype": "text/x-python",
   "name": "python",
   "nbconvert_exporter": "python",
   "pygments_lexer": "ipython3",
   "version": "3.6.4"
  }
 },
 "nbformat": 4,
 "nbformat_minor": 2
}
