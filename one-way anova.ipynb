{
 "cells": [
  {
   "cell_type": "code",
   "execution_count": 2,
   "metadata": {},
   "outputs": [
    {
     "name": "stdout",
     "output_type": "stream",
     "text": [
      "   Ethnicity  Height\n",
      "0    African     1.7\n",
      "1    African     1.5\n",
      "2    African     1.6\n",
      "3    African     1.6\n",
      "4    African     1.8\n",
      "5      Asian     1.5\n",
      "6      Asian     1.5\n",
      "7      Asian     1.7\n",
      "8      Asian     1.7\n",
      "9      Asian     1.6\n",
      "10  European     1.6\n",
      "11  European     1.8\n",
      "12  European     1.6\n",
      "13  European     1.7\n",
      "14  European     1.8\n"
     ]
    }
   ],
   "source": [
    "from pandas import DataFrame\n",
    "\n",
    "dataset = {\n",
    "        'Ethnicity': ['African','African','African','African','African','Asian','Asian','Asian','Asian','Asian','European','European','European','European','European'],\n",
    "        'Height': [1.7,1.5,1.6,1.6,1.8,1.5,1.5,1.7,1.7,1.6,1.6,1.8,1.6,1.7,1.8]\n",
    "        }\n",
    "\n",
    "dataset = DataFrame(dataset,columns= ['Ethnicity', 'Height'])\n",
    "\n",
    "print(dataset)"
   ]
  },
  {
   "cell_type": "code",
   "execution_count": 3,
   "metadata": {},
   "outputs": [
    {
     "data": {
      "text/plain": [
       "<matplotlib.axes._subplots.AxesSubplot at 0x177252ee518>"
      ]
     },
     "execution_count": 3,
     "metadata": {},
     "output_type": "execute_result"
    },
    {
     "data": {
      "image/png": "[encoded data removed]",
      "text/plain": [
       "<matplotlib.figure.Figure at 0x177252e6be0>"
      ]
     },
     "metadata": {},
     "output_type": "display_data"
    }
   ],
   "source": [
    "import statsmodels.api as sm\n",
    "from statsmodels.formula.api import ols\n",
    "\n",
    "dataset.boxplot('Height', by='Ethnicity')"
   ]
  },
  {
   "cell_type": "code",
   "execution_count": 8,
   "metadata": {},
   "outputs": [
    {
     "name": "stdout",
     "output_type": "stream",
     "text": [
      "              sum_sq    df            F        PR(>F)\n",
      "Intercept  13.448000   1.0  1222.545455  1.910619e-13\n",
      "Ethnicity   0.025333   2.0     1.151515  3.487539e-01\n",
      "Residual    0.132000  12.0          NaN           NaN\n"
     ]
    }
   ],
   "source": [
    "mod =  ols('Height ~ Ethnicity', data=dataset).fit()\n",
    "anova_table = sm.stats.anova_lm(mod, typ=3)\n",
    "print(anova_table)"
   ]
  },
  {
   "cell_type": "code",
   "execution_count": null,
   "metadata": {},
   "outputs": [],
   "source": []
  }
 ],
 "metadata": {
  "kernelspec": {
   "display_name": "Python 3",
   "language": "python",
   "name": "python3"
  },
  "language_info": {
   "codemirror_mode": {
    "name": "ipython",
    "version": 3
   },
   "file_extension": ".py",
   "mimetype": "text/x-python",
   "name": "python",
   "nbconvert_exporter": "python",
   "pygments_lexer": "ipython3",
   "version": "3.6.4"
  }
 },
 "nbformat": 4,
 "nbformat_minor": 2
}
