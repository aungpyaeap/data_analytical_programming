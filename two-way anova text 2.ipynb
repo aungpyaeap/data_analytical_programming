{
 "cells": [
  {
   "cell_type": "code",
   "execution_count": 2,
   "metadata": {},
   "outputs": [
    {
     "name": "stdout",
     "output_type": "stream",
     "text": [
      "   Machine Shift  Productivity\n",
      "0       M1     A             4\n",
      "1       M1     B             5\n",
      "2       M1     C             8\n",
      "3       M2     A             3\n",
      "4       M2     B             9\n",
      "5       M2     C             8\n",
      "6       M3     A             5\n",
      "7       M3     B             6\n",
      "8       Y3     C            10\n",
      "9       M4     A             6\n",
      "10      M4     B             8\n",
      "11      M4     C            12\n"
     ]
    }
   ],
   "source": [
    "import statsmodels.api as sm\n",
    "from statsmodels.formula.api import ols\n",
    "import seaborn as sns\n",
    "from pandas import DataFrame\n",
    "\n",
    "dataset = {\n",
    "        'Machine': ['M1','M1','M1','M2','M2','M2','M3','M3','Y3','M4','M4','M4'],\n",
    "        'Shift': ['A','B','C','A','B','C','A','B','C','A','B','C'],\n",
    "        'Productivity': [4,5,8,3,9,8,5,6,10,6,8,12]\n",
    "        }\n",
    "\n",
    "dataset = DataFrame(dataset,columns= ['Machine', 'Shift','Productivity'])\n",
    "\n",
    "print(dataset)"
   ]
  },
  {
   "cell_type": "code",
   "execution_count": 3,
   "metadata": {},
   "outputs": [
    {
     "name": "stdout",
     "output_type": "stream",
     "text": [
      "          sum_sq   df         F    PR(>F)\n",
      "Machine     14.5  4.0  1.576087  0.311514\n",
      "Shift       37.0  2.0  8.043478  0.027377\n",
      "Residual    11.5  5.0       NaN       NaN\n"
     ]
    }
   ],
   "source": [
    "mod =  ols('Productivity ~ Machine + Shift', data=dataset).fit()\n",
    "anova_table = sm.stats.anova_lm(mod, typ=2)\n",
    "print(anova_table)"
   ]
  },
  {
   "cell_type": "code",
   "execution_count": null,
   "metadata": {},
   "outputs": [],
   "source": []
  }
 ],
 "metadata": {
  "kernelspec": {
   "display_name": "Python 3",
   "language": "python",
   "name": "python3"
  },
  "language_info": {
   "codemirror_mode": {
    "name": "ipython",
    "version": 3
   },
   "file_extension": ".py",
   "mimetype": "text/x-python",
   "name": "python",
   "nbconvert_exporter": "python",
   "pygments_lexer": "ipython3",
   "version": "3.6.4"
  }
 },
 "nbformat": 4,
 "nbformat_minor": 2
}
