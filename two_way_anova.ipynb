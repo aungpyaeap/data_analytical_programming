{
  "nbformat": 4,
  "nbformat_minor": 0,
  "metadata": {
    "colab": {
      "name": "two-way anova.ipynb",
      "version": "0.3.2",
      "provenance": [],
      "collapsed_sections": []
    },
    "kernelspec": {
      "name": "python3",
      "display_name": "Python 3"
    }
  },
  "cells": [
    {
      "cell_type": "code",
      "metadata": {
        "id": "3XIov7uTQ9u9",
        "colab_type": "code",
        "colab": {
          "base_uri": "https://localhost:8080/",
          "height": 258
        },
        "outputId": "1be09b29-1f28-4cb7-f393-8802b3238332"
      },
      "source": [
        "import statsmodels.api as sm\n",
        "from statsmodels.formula.api import ols\n",
        "import seaborn as sns\n",
        "from pandas import DataFrame\n",
        "\n",
        "dataset = {\n",
        "        'Yield': ['Y1','Y1','Y1','Y2','Y2','Y2','Y3','Y3','Y3','Y4','Y4','Y4'],\n",
        "        'Potato': ['P1','P2','P3','P1','P2','P3','P1','P2','P3','P1','P2','P3'],\n",
        "        'Result': [18,13,12,20,23,21,14,12,9,11,17,10]\n",
        "        }\n",
        "\n",
        "dataset = DataFrame(dataset,columns= ['Yield', 'Potato','Result'])\n",
        "\n",
        "print(dataset)"
      ],
      "execution_count": 15,
      "outputs": [
        {
          "output_type": "stream",
          "text": [
            "   Yield Potato  Result\n",
            "0     Y1     P1      18\n",
            "1     Y1     P2      13\n",
            "2     Y1     P3      12\n",
            "3     Y2     P1      20\n",
            "4     Y2     P2      23\n",
            "5     Y2     P3      21\n",
            "6     Y3     P1      14\n",
            "7     Y3     P2      12\n",
            "8     Y3     P3       9\n",
            "9     Y4     P1      11\n",
            "10    Y4     P2      17\n",
            "11    Y4     P3      10\n"
          ],
          "name": "stdout"
        }
      ]
    },
    {
      "cell_type": "code",
      "metadata": {
        "id": "HmqZm7rLRAaN",
        "colab_type": "code",
        "colab": {
          "base_uri": "https://localhost:8080/",
          "height": 302
        },
        "outputId": "3d6195e3-9b86-4ba9-b3cb-8d998098b9fc"
      },
      "source": [
        "sns.boxplot(x=dataset[\"Yield\"], y=dataset[\"Result\"], linewidth=1)"
      ],
      "execution_count": 28,
      "outputs": [
        {
          "output_type": "execute_result",
          "data": {
            "text/plain": [
              "<matplotlib.axes._subplots.AxesSubplot at 0x7f5bc63c2a90>"
            ]
          },
          "metadata": {
            "tags": []
          },
          "execution_count": 28
        },
        {
          "output_type": "display_data",
          "data": {
            "image/png": "[encoded data removed]",
            "text/plain": [
              "<Figure size 432x288 with 1 Axes>"
            ]
          },
          "metadata": {
            "tags": []
          }
        }
      ]
    },
    {
      "cell_type": "code",
      "metadata": {
        "id": "5iniefDYTmc-",
        "colab_type": "code",
        "colab": {
          "base_uri": "https://localhost:8080/",
          "height": 302
        },
        "outputId": "a0f65ad3-d082-41c4-c8e5-a8bd4121a5b1"
      },
      "source": [
        "sns.boxplot(x=dataset[\"Potato\"], y=dataset[\"Result\"], linewidth=1)"
      ],
      "execution_count": 30,
      "outputs": [
        {
          "output_type": "execute_result",
          "data": {
            "text/plain": [
              "<matplotlib.axes._subplots.AxesSubplot at 0x7f5bc62d8ac8>"
            ]
          },
          "metadata": {
            "tags": []
          },
          "execution_count": 30
        },
        {
          "output_type": "display_data",
          "data": {
            "image/png": "[encoded data removed]",
            "text/plain": [
              "<Figure size 432x288 with 1 Axes>"
            ]
          },
          "metadata": {
            "tags": []
          }
        }
      ]
    },
    {
      "cell_type": "code",
      "metadata": {
        "id": "PKjqld33REot",
        "colab_type": "code",
        "colab": {
          "base_uri": "https://localhost:8080/",
          "height": 91
        },
        "outputId": "449ec9c3-be23-476c-a7b3-b6d7e16f6932"
      },
      "source": [
        "mod =  ols('Result ~ Yield + Potato', data=dataset).fit()\n",
        "anova_table = sm.stats.anova_lm(mod, typ=2)\n",
        "print(anova_table)"
      ],
      "execution_count": 8,
      "outputs": [
        {
          "output_type": "stream",
          "text": [
            "              sum_sq   df         F    PR(>F)\n",
            "Yield     171.333333  3.0  8.126482  0.015550\n",
            "Potato     24.500000  2.0  1.743083  0.253036\n",
            "Residual   42.166667  6.0       NaN       NaN\n"
          ],
          "name": "stdout"
        }
      ]
    }
  ]
}